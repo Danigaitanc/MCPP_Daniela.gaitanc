{
 "cells": [
  {
   "cell_type": "markdown",
   "metadata": {},
   "source": [
    "# Taller 2\n",
    "Métodos Computacionales para Políticas Públicas - URosario\n",
    "\n",
    "**Entrega: viernes 19-ago-2016 11:59 PM**"
   ]
  },
  {
   "cell_type": "markdown",
   "metadata": {},
   "source": [
    "<div class=\"alert alert-success\">\n",
    "**[Daniela Gaitán C]** <br><br>\n",
    "[daniela.gaitanc@urosario.edu.co]\n",
    "</div>"
   ]
  },
  {
   "cell_type": "markdown",
   "metadata": {},
   "source": [
    "## Instrucciones:\n",
    "- Guarde una copia de este *Jupyter Notebook* en su computador, idealmente en una carpeta destinada al material del curso.\n",
    "- Modifique el nombre del archivo del *notebook*, agregando al final un guión inferior y su nombre y apellido, separados estos últimos por otro guión inferior. Por ejemplo, mi *notebook* se llamaría: mcpp_taller2_santiago_matallana\n",
    "- Marque el *notebook* con su nombre y e-mail en el bloque verde arriba. Reemplace el texto \"[Su nombre acá]\" con su nombre y apellido. Similar para su e-mail.\n",
    "- Desarrolle la totalidad del taller sobre este *notebook*, insertando las celdas que sea necesario debajo de cada pregunta. Haga buen uso de las celdas para código y de las celdas tipo *markdown* según el caso.\n",
    "- Recuerde salvar periódicamente sus avances.\n",
    "- Cuando termine el taller:\n",
    "    1. Descárguelo en PDF.\n",
    "    2. Suba los dos archivos (.pdf y .ipynb) a su repositorio en GitHub antes de la fecha y hora límites.\n",
    "\n",
    "(El valor de cada ejercicio está en corchetes [ ] después del número de ejercicio.)"
   ]
  },
  {
   "cell_type": "markdown",
   "metadata": {},
   "source": [
    "---"
   ]
  },
  {
   "cell_type": "markdown",
   "metadata": {},
   "source": [
    "## 1. [1]\n",
    "\n",
    "[Pensar como un computador] Considere el siguiente código:"
   ]
  },
  {
   "cell_type": "raw",
   "metadata": {},
   "source": [
    "if x > 2:\n",
    "    if y > 2:\n",
    "        z = x + y\n",
    "        print(\"z es\", z)\n",
    "else:\n",
    "    print(\"x es\", x)"
   ]
  },
  {
   "cell_type": "markdown",
   "metadata": {},
   "source": [
    "¿Cuál es el resultado si\n",
    "\n",
    "a)  x = 2, y = 5?\n",
    "\n",
    "b)  x = 3, y = 1?\n",
    "\n",
    "c)  x = 1, y = 1? \n",
    "\n",
    "d)  x = 4, y = 3?"
   ]
  },
  {
   "cell_type": "markdown",
   "metadata": {},
   "source": [
    "A continuación se observan las operaciones y resultados para cada caso,\n",
    "\n",
    "a) x es 2, dado que x <= 2, el resultado de la operación será el indicado por \"else\", es decir, x es...\n",
    "\n",
    "b) Este numeral no tendría respuesta pues, apesar de que x > 2, y < 2 (menor) por tanto no se puede realizar la operación indicada.\n",
    "\n",
    "c) x es 1, dado que x < 2, el resultado de la operación será el indicado por \"else\", es decir, x es...\n",
    "\n",
    "d) Z es 7, ya que x, y > 2 el resultado indicado es el resultado de la operación matemática."
   ]
  },
  {
   "cell_type": "markdown",
   "metadata": {},
   "source": [
    "---"
   ]
  },
  {
   "cell_type": "markdown",
   "metadata": {},
   "source": [
    "## 2. [1]\n",
    "[Pensar como un computador] ¿Cuál es el resultado del siguiente código y cuántas veces se recorre el loop?"
   ]
  },
  {
   "cell_type": "code",
   "execution_count": null,
   "metadata": {
    "collapsed": true
   },
   "outputs": [],
   "source": [
    "i = 0\n",
    "while i < 10:\n",
    "    i = i + 1\n",
    "    if i % 2 == 0:\n",
    "        print(i)"
   ]
  },
  {
   "cell_type": "markdown",
   "metadata": {},
   "source": [
    "\n",
    "\n",
    "+ El loop se correrá diez (10) veces.\n",
    "\n",
    "+ el resultado del código, es el resultado de tomar los números del 0 al 9, sumarles uno (1) y condicionarlos a los números que al dividirse por 2 no tienen ningún residuo. Lo cual mosrará, \n",
    "\n",
    "2\n",
    "\n",
    "4\n",
    "\n",
    "6\n",
    "\n",
    "8\n",
    "\n",
    "10\n",
    "\n"
   ]
  },
  {
   "cell_type": "markdown",
   "metadata": {},
   "source": [
    "---"
   ]
  },
  {
   "cell_type": "markdown",
   "metadata": {},
   "source": [
    "## 3. [1]\n",
    "[Pensar como un computador] ¿Cuál es el resultado del siguiente código y cuántas veces se recorre el loop?"
   ]
  },
  {
   "cell_type": "code",
   "execution_count": null,
   "metadata": {
    "collapsed": true
   },
   "outputs": [],
   "source": [
    "i = 0\n",
    "while i > 10:\n",
    "    i = i + 1\n",
    "    if i % 2 == 0:\n",
    "        print(i)"
   ]
  },
  {
   "cell_type": "markdown",
   "metadata": {},
   "source": [
    "+ El loop se correrá diez (10) veces.\n",
    "\n",
    "+ En este caso, el programa no nos mostraría ningún resultado. Si bien i parte de 0 (i = 0), el while parte de i > 10, por lo que, soló se validaran valores que partan de 0.\n",
    "\n",
    "\n",
    "\n"
   ]
  },
  {
   "cell_type": "markdown",
   "metadata": {},
   "source": [
    "---"
   ]
  },
  {
   "cell_type": "markdown",
   "metadata": {},
   "source": [
    "## 4.  [2]\n",
    "Escriba un programa que pida al usuario ingresar un número entero, y que imprima \"par\" si el número es par e \"impar\" si el número es impar. Agregue a su programa un código que genere una advertencia en caso de que el usuario ingrese algo diferente a un número entero: \"Error. El usuario debe ingresar un número entero.\" (Investigue por su cuenta cómo lograr dicha validación y la generación del mensaje.)"
   ]
  },
  {
   "cell_type": "code",
   "execution_count": 35,
   "metadata": {
    "collapsed": false
   },
   "outputs": [
    {
     "name": "stdout",
     "output_type": "stream",
     "text": [
      "Ingrese un número entero:3\n",
      "3 es impar\n"
     ]
    }
   ],
   "source": [
    "num = eval(input(\"Ingrese un número entero:\"))\n",
    "if num % 2 == 0:\n",
    "    print(\"{0} es par\". format (num))\n",
    "elif num % 1 == 0:\n",
    "    print(\"{0} es impar\". format (num))\n",
    "else:\n",
    "    print(\"Error\")\n"
   ]
  },
  {
   "cell_type": "markdown",
   "metadata": {},
   "source": [
    "---"
   ]
  },
  {
   "cell_type": "markdown",
   "metadata": {},
   "source": [
    "## 5.  [2]\n",
    "Escriba un <font face=\"consolas\">for</font> loop que imprima todos los múltiplos de 3 desde 40 hasta 0 en orden decreciente. Esto es, 39, 36, 33,..., 3, 0."
   ]
  },
  {
   "cell_type": "code",
   "execution_count": 30,
   "metadata": {
    "collapsed": false,
    "scrolled": true
   },
   "outputs": [
    {
     "name": "stdout",
     "output_type": "stream",
     "text": [
      "39 es multiplo 3\n",
      "36 es multiplo 3\n",
      "33 es multiplo 3\n",
      "30 es multiplo 3\n",
      "27 es multiplo 3\n",
      "24 es multiplo 3\n",
      "21 es multiplo 3\n",
      "18 es multiplo 3\n",
      "15 es multiplo 3\n",
      "12 es multiplo 3\n",
      "9 es multiplo 3\n",
      "6 es multiplo 3\n",
      "3 es multiplo 3\n",
      "0 es multiplo 3\n"
     ]
    }
   ],
   "source": [
    "for n in range(40, -1, -1):\n",
    "    for i in [3]:\n",
    "         if n % i == 0:\n",
    "                print(n,\"es multiplo\", i)\n",
    "        "
   ]
  },
  {
   "cell_type": "markdown",
   "metadata": {},
   "source": [
    "---"
   ]
  },
  {
   "cell_type": "markdown",
   "metadata": {},
   "source": [
    "## 6. [2]\n",
    "Escriba un loop que imprima todos los números entre 6 y 30 que no son divisibles por 2, 3 o 5."
   ]
  },
  {
   "cell_type": "code",
   "execution_count": 33,
   "metadata": {
    "collapsed": false
   },
   "outputs": [
    {
     "name": "stdout",
     "output_type": "stream",
     "text": [
      "6 ,No es divisible por 5\n",
      "7 ,No es divisible por 2\n",
      "7 ,No es divisible por 3\n",
      "7 ,No es divisible por 5\n",
      "8 ,No es divisible por 3\n",
      "8 ,No es divisible por 5\n",
      "9 ,No es divisible por 2\n",
      "9 ,No es divisible por 5\n",
      "10 ,No es divisible por 3\n",
      "11 ,No es divisible por 2\n",
      "11 ,No es divisible por 3\n",
      "11 ,No es divisible por 5\n",
      "12 ,No es divisible por 5\n",
      "13 ,No es divisible por 2\n",
      "13 ,No es divisible por 3\n",
      "13 ,No es divisible por 5\n",
      "14 ,No es divisible por 3\n",
      "14 ,No es divisible por 5\n",
      "15 ,No es divisible por 2\n",
      "16 ,No es divisible por 3\n",
      "16 ,No es divisible por 5\n",
      "17 ,No es divisible por 2\n",
      "17 ,No es divisible por 3\n",
      "17 ,No es divisible por 5\n",
      "18 ,No es divisible por 5\n",
      "19 ,No es divisible por 2\n",
      "19 ,No es divisible por 3\n",
      "19 ,No es divisible por 5\n",
      "20 ,No es divisible por 3\n",
      "21 ,No es divisible por 2\n",
      "21 ,No es divisible por 5\n",
      "22 ,No es divisible por 3\n",
      "22 ,No es divisible por 5\n",
      "23 ,No es divisible por 2\n",
      "23 ,No es divisible por 3\n",
      "23 ,No es divisible por 5\n",
      "24 ,No es divisible por 5\n",
      "25 ,No es divisible por 2\n",
      "25 ,No es divisible por 3\n",
      "26 ,No es divisible por 3\n",
      "26 ,No es divisible por 5\n",
      "27 ,No es divisible por 2\n",
      "27 ,No es divisible por 5\n",
      "28 ,No es divisible por 3\n",
      "28 ,No es divisible por 5\n",
      "29 ,No es divisible por 2\n",
      "29 ,No es divisible por 3\n",
      "29 ,No es divisible por 5\n"
     ]
    }
   ],
   "source": [
    "for n in range(6, 31):\n",
    "    for i in [2,3,5]:\n",
    "         if n % i != 0:\n",
    "                print(n,\",No es divisible por\", i)\n",
    "        "
   ]
  },
  {
   "cell_type": "markdown",
   "metadata": {},
   "source": [
    "---"
   ]
  },
  {
   "cell_type": "markdown",
   "metadata": {},
   "source": [
    "## 7. [4]\n",
    "Escriba un programa llamado \"Adivine ni número\". El computador generará aleatoriamente un entero entre 1 y 100. El usuario digita un número y el computador responde \"Menor\" si el número aleatorio es menor que el escogido por el usuario, \"Mayor\" si el número aleatorio es mayor, y \"¡Correcto!\" si el usuario adivina el número. El jugador puede continuar ingresando números hasta que adivine correctamente.\n",
    "\n",
    "**Ejemplo:**\n",
    "- El número aleatorio es 79.\n",
    "- El computador muestra el texto \"Adivine el número entre 1 y 100:\" y espera a que el usuario lo digite.\n",
    "- El usuario digita el número que está abajo en itálicas.\n",
    "- El computador devuelve uno de tres textos, según el caso: \"Mayor\", \"Menor\", o \"¡Correcto!\"."
   ]
  },
  {
   "cell_type": "markdown",
   "metadata": {},
   "source": [
    "<font color=\"green\">Adivine el número entre 1 y 100: *40*<br>\n",
    "<font face=\"consolas\">Mayor</font>\n",
    "\n",
    "Adivine el número entre 1 y 100: *70*\n",
    "<font face=\"consolas\">Mayor</font>\n",
    "\n",
    "Adivine el número entre 1 y 100: *80*\n",
    "<font face=\"consolas\">Menor</font>\n",
    "\n",
    "Adivine el número entre 1 y 100: *77*\n",
    "<font face=\"consolas\">Mayor</font>\n",
    "\n",
    "Adivine el número entre 1 y 100: *79*\n",
    "<font face=\"consolas\">¡Correcto!</font></font>"
   ]
  },
  {
   "cell_type": "markdown",
   "metadata": {},
   "source": [
    "**¿Cómo generar números aleatorios en Python?**\n",
    "\n",
    "- Al comienzo de su programa escriba: <font face=\"consolas\" color=\"green\">import random</font>\n",
    "- Para generar un número aleatorio entre 1 y 100 escriba: <font face=\"consolas\" color=\"green\">random.randint(1, 100)</font>\n"
   ]
  },
  {
   "cell_type": "markdown",
   "metadata": {},
   "source": [
    "**Pistas:**\n",
    "\n",
    "- Piense en qué estructuras de control le sirven para resolver el problema.\n",
    "- ¿Cómo determina si el número es mayor, menor o correcto?\n",
    "- ¿Cómo le da turnos adicionales al usuario para adivinar, dependiendo de si en el turno anterior adivinó o no?"
   ]
  },
  {
   "cell_type": "code",
   "execution_count": 5,
   "metadata": {
    "collapsed": false,
    "scrolled": true
   },
   "outputs": [
    {
     "name": "stdout",
     "output_type": "stream",
     "text": [
      "Bienvenido a Adivina mi Número\n",
      "¿Cuál es tu nombre?\n",
      "Daniela Gaitan\n",
      "Estoy pensando un número entre 0 y 100.\n",
      "Adivina: 90\n",
      "Menor...\n",
      "Adivina: 45\n",
      "Mayor...\n",
      "Adivina: 56\n",
      "Mayor...\n",
      "Adivina: 78\n",
      "Menor...\n",
      "Adivina: 64\n",
      "Menor...\n",
      "Adivina: 61\n",
      "Menor...\n",
      "Adivina: 59\n",
      "Correcto!!! 59\n",
      "lo lograste, Felicitaciones\n"
     ]
    }
   ],
   "source": [
    "import random\n",
    "\n",
    "print(\"Bienvenido a Adivina mi Número\")\n",
    "print(\"¿Cuál es tu nombre?\")\n",
    "minombre = input()\n",
    "\n",
    "print(\"Estoy pensando un número entre 0 y 100.\")\n",
    "\n",
    "num = random.randint(1, 100)\n",
    "\n",
    "adivina = int(input(\"Adivina: \"))\n",
    "\n",
    "while adivina != num:\n",
    "    \n",
    "    if adivina > num:\n",
    "        \n",
    "        print(\"Menor...\")\n",
    "    \n",
    "    else:\n",
    "        print(\"Mayor...\")\n",
    "    \n",
    "    adivina = int(input(\"Adivina: \"))\n",
    "    \n",
    "    if adivina == num:\n",
    "        \n",
    "        print(\"Correcto!!!\", num)\n",
    "print(\"lo lograste, Felicitaciones\")"
   ]
  },
  {
   "cell_type": "markdown",
   "metadata": {},
   "source": [
    "---"
   ]
  }
 ],
 "metadata": {
  "anaconda-cloud": {},
  "kernelspec": {
   "display_name": "Python [Root]",
   "language": "python",
   "name": "Python [Root]"
  },
  "language_info": {
   "codemirror_mode": {
    "name": "ipython",
    "version": 3
   },
   "file_extension": ".py",
   "mimetype": "text/x-python",
   "name": "python",
   "nbconvert_exporter": "python",
   "pygments_lexer": "ipython3",
   "version": "3.5.2"
  }
 },
 "nbformat": 4,
 "nbformat_minor": 0
}
