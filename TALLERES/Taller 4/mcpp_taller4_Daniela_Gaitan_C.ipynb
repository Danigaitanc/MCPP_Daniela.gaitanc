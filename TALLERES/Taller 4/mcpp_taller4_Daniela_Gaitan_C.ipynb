{
 "cells": [
  {
   "cell_type": "markdown",
   "metadata": {},
   "source": [
    "# Taller 4\n",
    "Métodos Computacionales para Políticas Públicas - URosario\n",
    "\n",
    "**Entrega: viernes 2-sep-2016 11:59 PM**"
   ]
  },
  {
   "cell_type": "markdown",
   "metadata": {},
   "source": [
    "<div class=\"alert alert-success\">\n",
    "**[Daniela Gaitán Cotrino]** <br><br>\n",
    "[daniela.gaitanc@urosario.edu.co]\n",
    "</div>"
   ]
  },
  {
   "cell_type": "markdown",
   "metadata": {},
   "source": [
    "# Instrucciones:\n",
    "- Guarde una copia de este *Jupyter Notebook* en su computador, idealmente en una carpeta destinada al material del curso.\n",
    "- Modifique el nombre del archivo del *notebook*, agregando al final un guión inferior y su nombre y apellido, separados estos últimos por otro guión inferior. Por ejemplo, mi *notebook* se llamaría: mcpp_taller4_santiago_matallana\n",
    "- Marque el *notebook* con su nombre y e-mail en el bloque verde arriba. Reemplace el texto \"[Su nombre acá]\" con su nombre y apellido. Similar para su e-mail.\n",
    "- Desarrolle la totalidad del taller sobre este *notebook*, insertando las celdas que sea necesario debajo de cada pregunta. Haga buen uso de las celdas para código y de las celdas tipo *markdown* según el caso.\n",
    "- Recuerde salvar periódicamente sus avances.\n",
    "- Cuando termine el taller:\n",
    "    1. Descárguelo en PDF.\n",
    "    2. Suba los dos archivos (.pdf y .ipynb) a su repositorio en GitHub antes de la fecha y hora límites.\n",
    "\n",
    "(Todos los ejercicios tienen el mismo valor.)"
   ]
  },
  {
   "cell_type": "markdown",
   "metadata": {},
   "source": [
    "---"
   ]
  },
  {
   "cell_type": "markdown",
   "metadata": {},
   "source": [
    "# Zelle, Exercises 6.8 (p. 159):\n",
    "\n",
    "- True/False: 1-10\n",
    "- Multiple choice: 2, 3, 6, 7, 10\n",
    "- Programming Exercises: 1, 3, 4, 11, 12, 13"
   ]
  },
  {
   "cell_type": "markdown",
   "metadata": {},
   "source": [
    "## True / False"
   ]
  },
  {
   "cell_type": "markdown",
   "metadata": {},
   "source": [
    "#### 1. Programmers rarely define their own funtions\n",
    "- False\n",
    "    \n",
    "#### 2. A funtion may only be called at one place in a program\n",
    "- False\n",
    "\n",
    "#### 3. Information can be passed into a funtion through parameters\n",
    "- True\n",
    "    \n",
    "#### 4. Every Python funtion returns some value\n",
    "- True\n",
    "\n",
    "#### 5. In Python, some parameters are passed by reference\n",
    "- False\n",
    "\n",
    "#### 6. In Python, a funtion can return only one value\n",
    "- False\n",
    "\n",
    "#### 7. Python funtions can never modify a parameter\n",
    "- False\n",
    "\n",
    "#### 8. One reason to use funtions is to reduce code duplication\n",
    "- True\n",
    "\n",
    "#### 9. Variables defined in a funtion are local to that funtion\n",
    "- True\n",
    "\n",
    "#### 10. It's a bad idea to define new funtions if it makes a program longer\n",
    "- False\n",
    "\n",
    "\n"
   ]
  },
  {
   "cell_type": "markdown",
   "metadata": {},
   "source": [
    "## Multiple choice"
   ]
  },
  {
   "cell_type": "markdown",
   "metadata": {},
   "source": [
    "#### 2.  A Python function definition begins with\n",
    "- (a) def\n",
    "\n",
    "#### 3.  A function can send output back to the program with a(n)\n",
    "- (a) return\n",
    "\n",
    "#### 6.  In Python, actual parameters are passed to functions\n",
    "- (a) by value\n",
    "\n",
    "#### 7.  Which of the following is not a reason to use functions?\n",
    "- (d) to demonstrate intellectual superiority\n",
    "\n",
    "#### 10. A function can modify the value of an actual parameter only if it’s\n",
    "- (a) mutable"
   ]
  },
  {
   "cell_type": "markdown",
   "metadata": {},
   "source": [
    "## Programming Exercises"
   ]
  },
  {
   "cell_type": "markdown",
   "metadata": {},
   "source": [
    "#### 1. Write a program to print the lyrics of the song “Old MacDonald.” Your program should print the lyrics for five different animals, similar to the example verse below.\n",
    "\n",
    "    Old MacDonald had a farm, Ee-igh, Ee-igh, Oh! \n",
    "\n",
    "    And on that farm he had a cow, Ee-igh, Ee-igh, Oh!\n",
    "\n",
    "    With a moo, moo here and a moo, moo there.\n",
    "\n",
    "    Here a moo, there a moo, everywhere a moo, moo. \n",
    "\n",
    "    Old MacDonald had a farm, Ee-igh, Ee-igh, Oh!\n"
   ]
  },
  {
   "cell_type": "code",
   "execution_count": 1,
   "metadata": {
    "collapsed": false
   },
   "outputs": [
    {
     "name": "stdout",
     "output_type": "stream",
     "text": [
      "Old MacDonald had a farm, Ee-igh, Ee-igh, Oh!\n",
      "And on the farm he had a  cow, Ee-igh, Ee-igh,Oh!\n",
      "With a moo, moo here and a moo, moo there.\n",
      "Here a moo, there a moo, everyehere a moo, moo.\n",
      "Old MacDonald had a farm, Ee-igh, Ee-igh, Oh!\n",
      "Old MacDonald had a farm, Ee-igh, Ee-igh, Oh!\n",
      "And on the farm he had a  pig, Ee-igh, Ee-igh,Oh!\n",
      "With a oink, oink here and a oink, oink there.\n",
      "Here a oink, there a oink, everyehere a oink, oink.\n",
      "Old MacDonald had a farm, Ee-igh, Ee-igh, Oh!\n",
      "Old MacDonald had a farm, Ee-igh, Ee-igh, Oh!\n",
      "And on the farm he had a  horse, Ee-igh, Ee-igh,Oh!\n",
      "With a neigh, neigh here and a neigh, neigh there.\n",
      "Here a neigh, there a neigh, everyehere a neigh, neigh.\n",
      "Old MacDonald had a farm, Ee-igh, Ee-igh, Oh!\n",
      "Old MacDonald had a farm, Ee-igh, Ee-igh, Oh!\n",
      "And on the farm he had a  dog, Ee-igh, Ee-igh,Oh!\n",
      "With a woof, woof here and a woof, woof there.\n",
      "Here a woof, there a woof, everyehere a woof, woof.\n",
      "Old MacDonald had a farm, Ee-igh, Ee-igh, Oh!\n",
      "Old MacDonald had a farm, Ee-igh, Ee-igh, Oh!\n",
      "And on the farm he had a  cat, Ee-igh, Ee-igh,Oh!\n",
      "With a meow, meow here and a meow, meow there.\n",
      "Here a meow, there a meow, everyehere a meow, meow.\n",
      "Old MacDonald had a farm, Ee-igh, Ee-igh, Oh!\n"
     ]
    }
   ],
   "source": [
    "def animals(animal, sound):\n",
    "    print (\"Old MacDonald had a farm, Ee-igh, Ee-igh, Oh!\")\n",
    "    print (\"And on the farm he had a \", animal + \", Ee-igh, Ee-igh,Oh!\")\n",
    "    print (\"With a\", sound + \",\", sound, \"here and a\" , sound + \",\",sound + \" there.\")\n",
    "    print (\"Here a\", sound + \", there a\", sound + \", everyehere a\",sound  + \",\", sound + \".\")\n",
    "    print (\"Old MacDonald had a farm, Ee-igh, Ee-igh, Oh!\")\n",
    "    print\n",
    "    return animals\n",
    "\n",
    "def oldMac():\n",
    "    animals(\"cow\", \"moo\")\n",
    "    animals(\"pig\", \"oink\")\n",
    "    animals(\"horse\", \"neigh\")\n",
    "    animals(\"dog\", \"woof\")\n",
    "    animals(\"cat\", \"meow\")\n",
    "\n",
    "oldMac()"
   ]
  },
  {
   "cell_type": "markdown",
   "metadata": {},
   "source": [
    "#### 3. Write definitions for these functions:\n",
    "\n",
    "    sphereArea(radius) Returns the surface area of a sphere having the given radius.\n",
    "\n",
    "    sphereVolume(radius) Returns the volume of a sphere having the given radius.\n",
    "\n",
    "    - Use your functions to solve Programming Exercise 1 from Chapter 3."
   ]
  },
  {
   "cell_type": "code",
   "execution_count": 13,
   "metadata": {
    "collapsed": false
   },
   "outputs": [
    {
     "name": "stdout",
     "output_type": "stream",
     "text": [
      "Programa para calcular área y volume de una esfera.\n",
      "Por favor ingrese el radio de la esfera:84\n",
      "\n",
      "Con un radio de 84, el área de la esfera es 88668.31 y el volumen es 2482712.71.\n"
     ]
    }
   ],
   "source": [
    "import math\n",
    " \n",
    "def Area_esfera(radio):\n",
    "    area = math.pi*4*(radio**2)\n",
    "    return area\n",
    " \n",
    "def Volumen_esfera(radio):\n",
    "    volume = (4/3)*math.pi*(radio**3)\n",
    "    return volume\n",
    "\n",
    "def main():\n",
    "    print('Programa para calcular área y volume de una esfera.')\n",
    "    radiusEnter = eval(input('Por favor ingrese el radio de la esfera:'))\n",
    "    area = Area_esfera(radiusEnter)\n",
    "    vol = Volumen_esfera(radiusEnter)\n",
    "    print('\\nCon un radio de {}, el área de la esfera es {:.2f} y el volumen es {:.2f}.'.format(radiusEnter,area,vol))\n",
    "     \n",
    "main()\n"
   ]
  },
  {
   "cell_type": "markdown",
   "metadata": {},
   "source": [
    "#### 4. Write definitions for the following two functions:\n",
    "\n",
    "    sumN(n) returns the sum of the first n natural numbers.\n",
    "\n",
    "    sumNCubes(n) returns the sum of the cubes of the first n natural numbers.\n",
    "\n",
    "    - Then use these functions in a program that prompts a user for n and prints out the sum of the first n natural numbers and the sum of the cubes of the first n natural numbers."
   ]
  },
  {
   "cell_type": "code",
   "execution_count": 3,
   "metadata": {
    "collapsed": false
   },
   "outputs": [
    {
     "name": "stdout",
     "output_type": "stream",
     "text": [
      "por favor ingrese n:7\n",
      "la suma de los primeros n números es: 28\n",
      "la suma de los primeros n cubos es: 140\n"
     ]
    }
   ],
   "source": [
    "def sumN(n):\n",
    "    result = 0\n",
    "    for i in range(n+1):\n",
    "        result += i\n",
    "    return result\n",
    "\n",
    "def sumNCubes(n):\n",
    "    result = 0\n",
    "    for i in range(n+1):\n",
    "        result += i**2\n",
    "    return result\n",
    "\n",
    "def prompt_user():\n",
    "    n = int(input(\"por favor ingrese n:\"))\n",
    "    print(\"la suma de los primeros n números es:\", sumN(n))\n",
    "    print(\"la suma de los primeros n cubos es:\", sumNCubes(n))\n",
    "    \n",
    "prompt_user()"
   ]
  },
  {
   "cell_type": "markdown",
   "metadata": {},
   "source": [
    "#### 11. Write and test a function to meet this specification.\n",
    "squareEach(nums) nums is a list of numbers. Modifies the list by squaring each entry."
   ]
  },
  {
   "cell_type": "code",
   "execution_count": 4,
   "metadata": {
    "collapsed": false
   },
   "outputs": [
    {
     "name": "stdout",
     "output_type": "stream",
     "text": [
      "Programa para elevar números al cuadrado automaticamente.\n",
      "Por favor ingrese varios números separandolos por comas: 89,998\n",
      "\n",
      "El resultado de elevar al cuadrado es:  [7921, 996004]\n"
     ]
    }
   ],
   "source": [
    "def squareEach(nums):\n",
    "    entry = 0\n",
    "    for i in nums:\n",
    "        nums[entry] = i**2\n",
    "        entry = entry+1   \n",
    " \n",
    "def main():\n",
    "    print('Programa para elevar números al cuadrado automaticamente.')\n",
    "    nums = input('Por favor ingrese varios números separandolos por comas: ')\n",
    "     \n",
    "    nums = nums.split(',')         \n",
    "                                   \n",
    "    entry = 0\n",
    "    for i in nums:                 \n",
    "        nums[entry] = int(i)\n",
    "        entry = entry+1           \n",
    "     \n",
    "    squareEach(nums)              \n",
    "                                    \n",
    "    print('\\nEl resultado de elevar al cuadrado es: ',nums)\n",
    "main()\n"
   ]
  },
  {
   "cell_type": "markdown",
   "metadata": {},
   "source": [
    "#### 12. Write and test a function to meet this specification.\n",
    "sumList(nums) nums is a list of numbers. Returns the sum of the numbers in the list."
   ]
  },
  {
   "cell_type": "code",
   "execution_count": 5,
   "metadata": {
    "collapsed": false
   },
   "outputs": [
    {
     "name": "stdout",
     "output_type": "stream",
     "text": [
      "Programa para sumar todo los números ingresados.\n",
      "Por favor ingrese varios números separandolos por comas: 3,77,99,888\n",
      "\n",
      "El resultado de la suma de los números ingresados es 1067.\n"
     ]
    }
   ],
   "source": [
    "def sumList(nums):\n",
    "    total = 0\n",
    "    for i in nums:\n",
    "        total = total+i\n",
    "    return total\n",
    " \n",
    "def main():\n",
    "    print('Programa para sumar todo los números ingresados.')\n",
    "    nums = input('Por favor ingrese varios números separandolos por comas: ')\n",
    "     \n",
    "    nums = nums.split(',')      \n",
    "        \n",
    "    entry = 0\n",
    "    for i in nums:                 \n",
    "        nums[entry] = int(i)\n",
    "        entry = entry+1 \n",
    "     \n",
    "    sumTotal = sumList(nums)     \n",
    "     \n",
    "    print('\\nEl resultado de la suma de los números ingresados es {}.'.format(sumTotal))\n",
    "main()"
   ]
  },
  {
   "cell_type": "markdown",
   "metadata": {},
   "source": [
    "#### 13. Write and test a function to meet this specification.\n",
    "toNumbers(strList) strList is a list of strings, each of which represents a number. Modi- fies each entry in the list by converting it to a number."
   ]
  },
  {
   "cell_type": "code",
   "execution_count": 4,
   "metadata": {
    "collapsed": false
   },
   "outputs": [
    {
     "data": {
      "text/plain": [
       "[1, 2, 3]"
      ]
     },
     "execution_count": 4,
     "metadata": {},
     "output_type": "execute_result"
    }
   ],
   "source": [
    "def toNumbers(strList):\n",
    "    return [int(num) for num in strList]\n",
    "\n",
    "a=['1','2','3']\n",
    "\n",
    "b=toNumbers(a)\n",
    "b"
   ]
  },
  {
   "cell_type": "markdown",
   "metadata": {},
   "source": [
    "---"
   ]
  }
 ],
 "metadata": {
  "anaconda-cloud": {},
  "kernelspec": {
   "display_name": "Python [Root]",
   "language": "python",
   "name": "Python [Root]"
  },
  "language_info": {
   "codemirror_mode": {
    "name": "ipython",
    "version": 3
   },
   "file_extension": ".py",
   "mimetype": "text/x-python",
   "name": "python",
   "nbconvert_exporter": "python",
   "pygments_lexer": "ipython3",
   "version": "3.5.2"
  }
 },
 "nbformat": 4,
 "nbformat_minor": 0
}
