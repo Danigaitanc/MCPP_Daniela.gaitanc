{
 "cells": [
  {
   "cell_type": "markdown",
   "metadata": {},
   "source": [
    "# Corrección Parcial 1\n",
    "\n",
    "Métodos Computacionales para Políticas Públicas - URosario"
   ]
  },
  {
   "cell_type": "markdown",
   "metadata": {},
   "source": [
    "<div class=\"alert alert-success\">\n",
    "**[Daniela Gaitán Cotrino]** <br><br>\n",
    "[daniela.gaitanc@urosario.edu.co]\n",
    "</div>"
   ]
  },
  {
   "cell_type": "markdown",
   "metadata": {},
   "source": [
    "## Parte 1"
   ]
  },
  {
   "cell_type": "markdown",
   "metadata": {
    "collapsed": true
   },
   "source": [
    "1.\n",
    "\n",
    "x = 15\n",
    "x = x + 5\n",
    "print(x)\n",
    "\n",
    "#### ¿Qué resultado arroja el anterior código?\n",
    "\n",
    "Rta/ 20"
   ]
  },
  {
   "cell_type": "markdown",
   "metadata": {
    "collapsed": true
   },
   "source": [
    "2.\n",
    "\n",
    "#### ¿Qué entedemos por \"código\" en el contexto de este curso?\n",
    "\n",
    "Rta/ Una secuencia de instrucciones en un lenguaje de programación"
   ]
  },
  {
   "cell_type": "markdown",
   "metadata": {
    "collapsed": true
   },
   "source": [
    "3.\n",
    "\n",
    "#### ¿Una memoria USB es un ejemplo de qué componente de la arquitectura de un computador?\n",
    "\n",
    "Rta/ Secondary Memory\n"
   ]
  },
  {
   "cell_type": "markdown",
   "metadata": {
    "collapsed": true
   },
   "source": [
    "4.\n",
    "\n",
    "print(94.2)\n",
    "\n",
    "#### En el código anterior, ¿qué es 94.2?\n",
    "\n",
    "Rta/ Una constante"
   ]
  },
  {
   "cell_type": "markdown",
   "metadata": {
    "collapsed": true
   },
   "source": [
    "5.\n",
    "\n",
    "x = 94.2\n",
    "\n",
    "#### En el código anterior, ¿qué es 94.2?\n",
    "\n",
    "Rta/ Una variable"
   ]
  },
  {
   "cell_type": "markdown",
   "metadata": {
    "collapsed": true
   },
   "source": [
    "6.\n",
    "\n",
    "\n",
    "#### ¿Cuál de las siguientes no es una palabra reservada en Python?\n",
    "\n",
    "if\n",
    "break\n",
    "for\n",
    "else\n",
    "\n",
    "Rta/ Ninguna de las anteriores"
   ]
  },
  {
   "cell_type": "markdown",
   "metadata": {
    "collapsed": true
   },
   "source": [
    "7 .\n",
    "\n",
    "a = a + 3\n",
    "\n",
    "#### ¿Qué hace el código anterior?\n",
    "\n",
    "Rta/ Toma el valor de \"a\", le suma 3, y asigna el resultado a \"a\""
   ]
  },
  {
   "cell_type": "markdown",
   "metadata": {
    "collapsed": true
   },
   "source": [
    "8.\n",
    "\n",
    "35 % 7\n",
    "\n",
    "5\n",
    "7\n",
    "\"35 % 7\"\n",
    "35\n",
    "\n",
    "#### ¿Cuál es el valor de la expresión anterior?\n",
    "\n",
    "Rta/ Ninguna de las anteriores"
   ]
  },
  {
   "cell_type": "markdown",
   "metadata": {
    "collapsed": true
   },
   "source": [
    "9.\n",
    "\n",
    "x = 3 + 2 * 3 - 20 / 4\n",
    "print(x)\n",
    "\n",
    "#### ¿Cuál es el resultado de la expresión anterior?\n",
    "\n",
    "Rta/ 4"
   ]
  },
  {
   "cell_type": "markdown",
   "metadata": {
    "collapsed": true
   },
   "source": [
    "10.\n",
    "\n",
    "x = int(13.6)\n",
    "\n",
    "#### ¿Qué valor tiene \"x\" asignado si se ejecuta la anterior expresión?\n",
    "\n",
    "Rta/ 13"
   ]
  },
  {
   "cell_type": "markdown",
   "metadata": {
    "collapsed": true
   },
   "source": [
    "11.\n",
    "\n",
    "#### ¿Cómo se indica en Python el final de un bloque de código constitutivo de una función?\n",
    "\n",
    "Rta/ Volviendo al nivel de indentación de la palabra clave \"def\""
   ]
  },
  {
   "cell_type": "markdown",
   "metadata": {
    "collapsed": true
   },
   "source": [
    "12.\n",
    "\n",
    "def thing( ): \n",
    "    print(\"Hello\")\n",
    "print(\"there\")\n",
    "\n",
    "#### ¿Cuál es el resultado de ejecutar el anterior código?\n",
    "\n",
    "Rta/ there"
   ]
  },
  {
   "cell_type": "markdown",
   "metadata": {
    "collapsed": true
   },
   "source": [
    "13.\n",
    "\n",
    "def greet(lang ):\n",
    "    if lang == \"es\":\n",
    "        return(\"Hola\")\n",
    "    elif lang == \"fr\":\n",
    "        return(\"Bonjour\")\n",
    "    else:\n",
    "        return(\"Hello\")\n",
    "    \n",
    "print(greet(fr), \"Michael\")\n",
    "\n",
    "#### ¿Cuál es el resultado de ejecutar el anterior código?\n",
    "\n",
    "Rta/ Bonjour Michael\n"
   ]
  },
  {
   "cell_type": "markdown",
   "metadata": {
    "collapsed": true
   },
   "source": [
    "14.\n",
    "\n",
    "def addtwo(a, b):\n",
    "    added = a + b\n",
    "    return a\n",
    "x = addtwo(2, 7)\n",
    "print(x)\n",
    "\n",
    "\n",
    "#### ¿Cuál es el resultado de ejecutar el anterior código?\n",
    "\n",
    "Rta/ 2"
   ]
  },
  {
   "cell_type": "markdown",
   "metadata": {
    "collapsed": true
   },
   "source": [
    "15 . \n",
    "\n",
    "n = 5\n",
    "while n > 0:\n",
    "    print(n)\n",
    "    \n",
    "print(\"All done\")\n",
    "\n",
    "#### ¿Qué está mal en el anterior código?\n",
    "\n",
    "Rta/ Este loop correrá por siempre\n"
   ]
  },
  {
   "cell_type": "markdown",
   "metadata": {
    "collapsed": true
   },
   "source": [
    "16.\n",
    "\n",
    "tot = 0\n",
    "for i in [5, 4, 3, 2, 1]:\n",
    "    tot = tot + 1\n",
    "    print(tot)\n",
    "\n",
    "#### ¿Cuál es el resultado de ejecutar el anterior código?\n",
    "\n",
    "Rta/ 5"
   ]
  },
  {
   "cell_type": "markdown",
   "metadata": {
    "collapsed": true
   },
   "source": [
    "17.\n",
    "\n",
    "friends = [Joseph, Glenn, Sally]\n",
    "for friend in friends:\n",
    "    print(\"Happy New Year:\", friend)\n",
    "print(\"Done!\")\n",
    "\n",
    "#### ¿Cuál es el iterador en el anterior código?\n",
    "\n",
    "friends\n",
    "Joseph\n",
    "Glenn\n",
    "Sally\n",
    "\n",
    "Rta/ Ninguna de las anteriores\n",
    "\n"
   ]
  },
  {
   "cell_type": "markdown",
   "metadata": {
    "collapsed": true
   },
   "source": [
    "18.\n",
    "\n",
    "zork = 0\n",
    "for thing in [9, 41, 12, 3, 74, 15]:\n",
    "    zork = zork + thing\n",
    "print(zork)\n",
    "\n",
    "#### ¿Cuál es una buena descripción del anterior bloque de código?\n",
    "\n",
    "Rta/ Sume todos los elementos de una lista\n"
   ]
  },
  {
   "cell_type": "markdown",
   "metadata": {
    "collapsed": false
   },
   "source": [
    "19.\n",
    "\n",
    "smallest_so_far = -1\n",
    "for the_num in [9, 41, 12, 3, 74, 15]:\n",
    "    if the_num < smallest_so_far:\n",
    "        smallest_so_far = the_num\n",
    "print(\"smallest_so_far\")\n",
    "\n",
    "#### ¿Cuál es el resultado de ejecutar el anterior código? \n",
    "\n",
    "-1\n",
    "3\n",
    "74\n",
    "9\n",
    "\n",
    "\n",
    "Rta/ Ninguna de las anteriores. Sin embargo, el corrector del culestionario dice que es -1\n"
   ]
  },
  {
   "cell_type": "markdown",
   "metadata": {
    "collapsed": true
   },
   "source": [
    "20.\n",
    "\n",
    "str1 = \"Hello\"\n",
    "str2 = \"there\"\n",
    "bob = str1 + str2\n",
    "print(bob)\n",
    "\n",
    "#### ¿Cuál es el resultado de ejecutar el anterior código?\n",
    "\n",
    "Rta/ Hellothere\n"
   ]
  },
  {
   "cell_type": "markdown",
   "metadata": {
    "collapsed": true
   },
   "source": [
    "21.\n",
    "\n",
    "x = \"40\"\n",
    "y = int(x) + 2\n",
    "print(y)\n",
    "\n",
    "#### ¿Cuál es el resultado de ejecutar el anterior código?\n",
    "\n",
    "Rta/ 42"
   ]
  },
  {
   "cell_type": "markdown",
   "metadata": {
    "collapsed": true
   },
   "source": [
    "22.\n",
    "\n",
    "#### ¿Cómo usaría el operador de indexación [ ] para imprimir la letra \"q\" dado el siguiente código?\n",
    "\n",
    "x = \"From marquard@uct.ac.za\"\n",
    "\n",
    "Rta/ x[8]\n"
   ]
  },
  {
   "cell_type": "markdown",
   "metadata": {
    "collapsed": true
   },
   "source": [
    "23.\n",
    "\n",
    "#### ¿Cómo usaría el operador de \"slicing\" [:] para imprimir el texto \"uct\" dado el siguiente código?\n",
    "\n",
    "x = \"From marquard@uct.ac.za\"\n",
    "\n",
    "Rta/ x[14:17]\n"
   ]
  },
  {
   "cell_type": "markdown",
   "metadata": {
    "collapsed": true
   },
   "source": [
    "24.\n",
    "\n",
    "#### ¿Cuál es el resultado de ejecutar el siguiente código?\n",
    "\n",
    "print(len(\"banana\") * 7)\n",
    "\n",
    "Rta/ 42"
   ]
  },
  {
   "cell_type": "markdown",
   "metadata": {
    "collapsed": true
   },
   "source": [
    "25.\n",
    "\n",
    "#### ¿Cómo se imprimiría el contenido de la siguiente variable en mayúsculas sostenidas?\n",
    "greet = \"Hello Bob\"\n",
    "\n",
    "Rta/ print(greet.upper())\n"
   ]
  },
  {
   "cell_type": "markdown",
   "metadata": {
    "collapsed": true
   },
   "source": [
    "26.\n",
    "\n",
    "data = \"From stephen.marquard@uct.ac.za Sat Jan 5 09:14:16 2008\"\n",
    "pos = data.find(\".\")\n",
    "print(data[pos: pos+3])\n",
    "\n",
    "#### ¿Cuál es el resultado de ejecutar el anterior código? \n",
    "Pista: el método \"find\" encuentra la primera ocurrencia de su argumento.\n",
    "    \n",
    "Rta/ .ma\n"
   ]
  },
  {
   "cell_type": "markdown",
   "metadata": {
    "collapsed": true
   },
   "source": [
    "27.\n",
    "\n",
    "#### ¿Qué indica el segundo parámetro de la función predefinida open()?\n",
    "\n",
    "Rta/ El modo (lectura o escritura) de apertura del archivo\n"
   ]
  },
  {
   "cell_type": "markdown",
   "metadata": {
    "collapsed": true
   },
   "source": [
    "28.\n",
    "\n",
    "#### ¿Para la siguiente lista, ¿cómo se imprimiría \"Sally\"?\n",
    "friends = [Joseph, Glenn, Sally]\n",
    "\n",
    "Rta/ print(friends[2])"
   ]
  },
  {
   "cell_type": "markdown",
   "metadata": {
    "collapsed": true
   },
   "source": [
    "29.\n",
    "\n",
    "fruit = \"Banana\"\n",
    "fruit[0] = \"b\"\n",
    "print(fruit)\n",
    "\n",
    "#### ¿Cuál es el resultado de ejecutar el anterior código?\n",
    "\n",
    "Rta/ Ninguna de las anteriores"
   ]
  },
  {
   "cell_type": "markdown",
   "metadata": {
    "collapsed": true
   },
   "source": [
    "30.\n",
    "\n",
    "a = [1, 2, 3]\n",
    "b = [4, 5, 6]\n",
    "c = a + b\n",
    "print(len(c))\n",
    "\n",
    "#### ¿Cuál es el resultado de ejecutar el anterior código?\n",
    "\n",
    "Rta/ 6"
   ]
  },
  {
   "cell_type": "markdown",
   "metadata": {
    "collapsed": true
   },
   "source": [
    "31.\n",
    "\n",
    "#### ¿En qué se diferencian los diccionarios de las listas?\n",
    "\n",
    "Rta/ Las listas son indexadas usando enteros y los diccionarios pueden\n",
    "usar \"strings\" como índices\n"
   ]
  },
  {
   "cell_type": "markdown",
   "metadata": {
    "collapsed": true
   },
   "source": [
    "32.\n",
    "\n",
    "stuff = { }\n",
    "print(stuff.get(\"candy\", -1))\n",
    "\n",
    "#### ¿Cuál es el resultado de ejecutar el anterior código?\n",
    "\n",
    "Rta/-1"
   ]
  },
  {
   "cell_type": "markdown",
   "metadata": {
    "collapsed": true
   },
   "source": [
    "33.\n",
    "\n",
    "#### ¿Cuál es un uso común de diccionarios en Python?\n",
    "Rta/ Construir un histograma con la frecuencia de ocurrencia de\n",
    "determinado objeto"
   ]
  },
  {
   "cell_type": "markdown",
   "metadata": {
    "collapsed": true
   },
   "source": [
    "34.\n",
    "\n",
    "if key in counts:\n",
    "counts[key] = counts[key] + 1\n",
    "else:\n",
    "counts[key] = 1\n",
    "\n",
    "#### ¿Cuál de las siguientes líneas de código es equivalente al bloque arriba, asumiendo que \"counts\" es un diccionario?\n",
    "\n",
    "Rta/ counts[key] = counts.get(key, 0) + 1\n"
   ]
  },
  {
   "cell_type": "markdown",
   "metadata": {},
   "source": [
    "## Parte 2"
   ]
  },
  {
   "cell_type": "code",
   "execution_count": 57,
   "metadata": {
    "collapsed": true
   },
   "outputs": [],
   "source": [
    "1. \n",
    "\n",
    "x = 7\n",
    "y = 5.0\n",
    "z = 10.0\n",
    "\n",
    "w = x % 2 + y / z + z + y / (z + z)\n",
    "# ¿Cuál es el valor de \"w\" después de ejecutar el anterior código?"
   ]
  },
  {
   "cell_type": "code",
   "execution_count": 58,
   "metadata": {
    "collapsed": false
   },
   "outputs": [
    {
     "name": "stdout",
     "output_type": "stream",
     "text": [
      "11.75\n"
     ]
    }
   ],
   "source": [
    "print(w)"
   ]
  },
  {
   "cell_type": "code",
   "execution_count": 59,
   "metadata": {
    "collapsed": true
   },
   "outputs": [],
   "source": [
    "2. \n",
    "\n",
    "c = True\n",
    "d = False\n",
    "c = c and d\n",
    "c = not c or d\n",
    "\n",
    "# ¿Cuál es el valor de \"c\" después de ejecutar el anterior código?"
   ]
  },
  {
   "cell_type": "code",
   "execution_count": 60,
   "metadata": {
    "collapsed": false
   },
   "outputs": [
    {
     "data": {
      "text/plain": [
       "True"
      ]
     },
     "execution_count": 60,
     "metadata": {},
     "output_type": "execute_result"
    }
   ],
   "source": [
    "c"
   ]
  },
  {
   "cell_type": "code",
   "execution_count": 61,
   "metadata": {
    "collapsed": false
   },
   "outputs": [
    {
     "name": "stdout",
     "output_type": "stream",
     "text": [
      "$350.50\n"
     ]
    }
   ],
   "source": [
    "3.\n",
    "\n",
    "d = 0\n",
    "for p in range(0, 5):\n",
    "    if p % 4 == 0:\n",
    "        d = d + (p-1) * 25;\n",
    "    else:\n",
    "        d = d + 100;\n",
    "print(\"$\" + str(d) + \".\" + str(d % 100))\n",
    "\n",
    "# ¿Qué resultado arroja el anterior código?"
   ]
  },
  {
   "cell_type": "code",
   "execution_count": 13,
   "metadata": {
    "collapsed": false
   },
   "outputs": [
    {
     "name": "stdout",
     "output_type": "stream",
     "text": [
      "nl: [4, 3, 2, 1, 0]\n"
     ]
    }
   ],
   "source": [
    "def mystery1(l):\n",
    "    rv = []\n",
    "    for x in l:\n",
    "        rv = [x] + rv\n",
    "    return rv\n",
    "\n",
    "l = [0, 1, 2, 3, 4]\n",
    "nl = mystery1(l)\n",
    "print(\"nl:\", nl)\n",
    "\n",
    "#  ¿Qué resultado arroja el anterior código?"
   ]
  },
  {
   "cell_type": "code",
   "execution_count": 62,
   "metadata": {
    "collapsed": false
   },
   "outputs": [
    {
     "data": {
      "text/plain": [
       "(6, 16, 34, 11.5)"
      ]
     },
     "execution_count": 62,
     "metadata": {},
     "output_type": "execute_result"
    }
   ],
   "source": [
    "4.\n",
    "\n",
    "def f(i):\n",
    "    i = i + 2\n",
    "    return i\n",
    "\n",
    "def g(i):\n",
    "    j = h(i * 4)\n",
    "    return j\n",
    "\n",
    "def h(i):\n",
    "    return i - 1\n",
    "\n",
    "def main():\n",
    "    i = 6\n",
    "    j = k = l = 2\n",
    "    j = 2 * f(i)\n",
    "    k = f(j * 2)\n",
    "    l = g(i) / 2\n",
    "    return i, j, k, l\n",
    "\n",
    "main()\n",
    "\n",
    "#  ¿Qué resultado arroja el anterior código?"
   ]
  },
  {
   "cell_type": "markdown",
   "metadata": {},
   "source": []
  }
 ],
 "metadata": {
  "anaconda-cloud": {},
  "kernelspec": {
   "display_name": "Python [Root]",
   "language": "python",
   "name": "Python [Root]"
  },
  "language_info": {
   "codemirror_mode": {
    "name": "ipython",
    "version": 3
   },
   "file_extension": ".py",
   "mimetype": "text/x-python",
   "name": "python",
   "nbconvert_exporter": "python",
   "pygments_lexer": "ipython3",
   "version": "3.5.2"
  }
 },
 "nbformat": 4,
 "nbformat_minor": 0
}
